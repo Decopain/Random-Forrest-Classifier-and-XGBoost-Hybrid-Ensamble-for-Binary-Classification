{
 "cells": [
  {
   "cell_type": "code",
   "execution_count": null,
   "id": "89cc90fa-042a-453d-bdc9-748da6c7895b",
   "metadata": {
    "ExecuteTime": {
     "end_time": "2023-08-31T19:36:44.655724+00:00",
     "start_time": "2023-08-31T19:36:33.603461+00:00"
    },
    "jupyter": {
     "outputs_hidden": true,
     "source_hidden": false
    },
    "noteable": {
     "cell_type": "code",
     "output_collection_id": "15f1e85d-ba59-4bec-911e-d80fd82d6a25"
    }
   },
   "outputs": [],
   "source": [
    "# pip install xgboost"
   ]
  },
  {
   "cell_type": "code",
   "execution_count": null,
   "id": "2420d2ad-14bd-41c5-b9ad-5ded77049b9e",
   "metadata": {
    "ExecuteTime": {
     "end_time": "2023-08-31T19:36:44.820413+00:00",
     "start_time": "2023-08-31T19:36:44.664043+00:00"
    },
    "noteable": {
     "cell_type": "code",
     "output_collection_id": "7800dd9b-f654-40b9-8efe-ad4b09c6f2ad"
    }
   },
   "outputs": [],
   "source": [
    "from sklearn.ensemble import RandomForestClassifier"
   ]
  },
  {
   "cell_type": "code",
   "execution_count": null,
   "id": "f5165325-335f-44e0-a679-b6162300cbcc",
   "metadata": {
    "ExecuteTime": {
     "end_time": "2023-08-31T19:36:44.985786+00:00",
     "start_time": "2023-08-31T19:36:44.677813+00:00"
    },
    "noteable": {
     "cell_type": "code",
     "output_collection_id": "a2060355-51dc-40fe-bd2e-6624e6271fad"
    }
   },
   "outputs": [],
   "source": [
    "from sklearn.model_selection import train_test_split, StratifiedKFold, GridSearchCV"
   ]
  },
  {
   "cell_type": "code",
   "execution_count": null,
   "id": "f96bae00-fc1c-401f-a217-8469ea1f6130",
   "metadata": {
    "ExecuteTime": {
     "end_time": "2023-08-31T19:36:45.151733+00:00",
     "start_time": "2023-08-31T19:36:44.826957+00:00"
    },
    "noteable": {
     "cell_type": "code",
     "output_collection_id": "7d9ae635-09aa-46bf-beca-9996fbdd4e6d"
    }
   },
   "outputs": [],
   "source": [
    "from sklearn.metrics import accuracy_score, precision_score, recall_score, f1_score, confusion_matrix"
   ]
  },
  {
   "cell_type": "code",
   "execution_count": null,
   "id": "2391f0f4-591f-4563-9887-5919e480042c",
   "metadata": {
    "ExecuteTime": {
     "end_time": "2023-08-31T19:36:45.318220+00:00",
     "start_time": "2023-08-31T19:36:44.996271+00:00"
    },
    "noteable": {
     "cell_type": "code",
     "output_collection_id": "4f81e231-8a80-411c-8f02-cc2f7c493efc"
    }
   },
   "outputs": [],
   "source": [
    "from sklearn.preprocessing import StandardScaler, PolynomialFeatures"
   ]
  },
  {
   "cell_type": "code",
   "execution_count": null,
   "id": "8e19b950-e43d-440b-a6e6-093f6b21360c",
   "metadata": {
    "ExecuteTime": {
     "end_time": "2023-08-31T19:36:45.481958+00:00",
     "start_time": "2023-08-31T19:36:45.159991+00:00"
    },
    "noteable": {
     "cell_type": "code",
     "output_collection_id": "02956f28-9027-421e-ac82-08c86058d3a0"
    }
   },
   "outputs": [],
   "source": [
    "from sklearn.utils.class_weight import compute_class_weight"
   ]
  },
  {
   "cell_type": "code",
   "execution_count": null,
   "id": "39a8ebf2-a2ae-4425-96b3-aed892bae124",
   "metadata": {
    "ExecuteTime": {
     "end_time": "2023-08-31T19:36:50.962008+00:00",
     "start_time": "2023-08-31T19:36:45.598598+00:00"
    },
    "jupyter": {
     "outputs_hidden": true
    },
    "noteable": {
     "cell_type": "code",
     "output_collection_id": "8beceabc-dba2-41ac-a649-4b3b5bffc793"
    }
   },
   "outputs": [],
   "source": [
    "# !pip install imbalanced-learn"
   ]
  },
  {
   "cell_type": "code",
   "execution_count": null,
   "id": "cb1e4cfd-56ee-4493-86a1-8ff825f325bf",
   "metadata": {
    "ExecuteTime": {
     "end_time": "2023-08-31T19:36:51.204193+00:00",
     "start_time": "2023-08-31T19:36:51.002002+00:00"
    },
    "noteable": {
     "cell_type": "code",
     "output_collection_id": "b3de5c05-e85d-4ad0-841e-7e0d5584ee3c"
    }
   },
   "outputs": [],
   "source": [
    "from imblearn.over_sampling import ADASYN"
   ]
  },
  {
   "cell_type": "code",
   "execution_count": null,
   "id": "9ed1ef5b-565c-4b8a-828f-723ea9824a48",
   "metadata": {
    "ExecuteTime": {
     "end_time": "2023-08-31T19:36:58.707160+00:00",
     "start_time": "2023-08-31T19:36:53.368005+00:00"
    },
    "jupyter": {
     "outputs_hidden": true
    },
    "noteable": {
     "cell_type": "code",
     "output_collection_id": "2573f47c-218a-4e20-9371-a9e2f443b71a"
    }
   },
   "outputs": [],
   "source": [
    "# !pip install tslearn"
   ]
  },
  {
   "cell_type": "code",
   "execution_count": null,
   "id": "0d0b5dda-c234-4061-9cf5-7293670da095",
   "metadata": {
    "ExecuteTime": {
     "end_time": "2023-08-31T19:36:59.385291+00:00",
     "start_time": "2023-08-31T19:36:58.714839+00:00"
    },
    "noteable": {
     "cell_type": "code",
     "output_collection_id": "bacdc322-3b0a-4015-ad1f-69ba82c585ed"
    }
   },
   "outputs": [],
   "source": [
    "from tslearn.clustering import TimeSeriesKMeans"
   ]
  },
  {
   "cell_type": "code",
   "execution_count": null,
   "id": "edf93be5-201c-484a-806b-f7ac9e7a5fd6",
   "metadata": {
    "ExecuteTime": {
     "end_time": "2023-08-30T23:08:49.652404+00:00",
     "start_time": "2023-08-30T22:17:45.820106+00:00"
    },
    "noteable": {
     "cell_type": "code",
     "output_collection_id": "06aee3c5-a6e3-43db-8b7b-eccace835ac2"
    }
   },
   "outputs": [],
   "source": [
    "import xgboost as xgb\n",
    "from sklearn.ensemble import VotingClassifier\n",
    "\n",
    "# Load the data\n",
    "data = pd.read_csv('EDA4_nan820.csv')\n",
    "X = data.drop(['trending', 'Time'], axis=1)\n",
    "y = data['trending']\n",
    "\n",
    "# Split the data at line 820\n",
    "split_index = 820\n",
    "X_train = X.iloc[:split_index]\n",
    "X_test = X.iloc[split_index:]\n",
    "y_train = y.iloc[:split_index]\n",
    "y_test = y.iloc[split_index:]\n",
    "\n",
    "# Scale the features\n",
    "scaler = StandardScaler()\n",
    "X_train_scaled = scaler.fit_transform(X_train)\n",
    "X_test_scaled = scaler.transform(X_test)\n",
    "\n",
    "# Apply Polynomial Feature Transformation\n",
    "poly = PolynomialFeatures(degree=2)\n",
    "X_train_poly = poly.fit_transform(X_train_scaled)\n",
    "X_test_poly = poly.transform(X_test_scaled)\n",
    "\n",
    "# Resample the training data using ADASYN\n",
    "adasyn = ADASYN(random_state=42)\n",
    "X_train_adasyn, y_train_adasyn = adasyn.fit_resample(X_train_poly, y_train)\n",
    "\n",
    "# Train RandomForest\n",
    "param_grid_rf = {\n",
    "    'n_estimators': [50, 100, 150],\n",
    "    'max_depth': [None, 10, 20, 30],\n",
    "    'min_samples_split': [2, 5, 10],\n",
    "    'min_samples_leaf': [1, 2, 4]\n",
    "}\n",
    "grid_search_rf = GridSearchCV(RandomForestClassifier(random_state=42), param_grid_rf, cv=3)\n",
    "grid_search_rf.fit(X_train_adasyn, y_train_adasyn)\n",
    "best_rf = grid_search_rf.best_estimator_\n",
    "\n",
    "# Train XGBoost with custom loss function for trend length\n",
    "def custom_loss(y_true, y_pred):\n",
    "    # Calculate the difference between consecutive predictions\n",
    "    diff = np.diff(y_pred)\n",
    "    # Penalize short trends\n",
    "    penalty = np.sum(np.abs(diff))\n",
    "    # Standard log loss\n",
    "    log_loss = -np.sum(y_true * np.log(y_pred) + (1 - y_true) * np.log(1 - y_pred))\n",
    "    return log_loss + penalty\n",
    "\n",
    "param_grid_xgb = {\n",
    "    'n_estimators': [50, 100, 150],\n",
    "    'max_depth': [3, 5, 7],\n",
    "    'learning_rate': [0.01, 0.05, 0.1],\n",
    "    'alpha': [0, 0.1, 1],\n",
    "    'lambda': [0, 0.1, 1]\n",
    "}\n",
    "grid_search_xgb = GridSearchCV(xgb.XGBClassifier(objective='binary:logistic', eval_metric='logloss', random_state=42), param_grid_xgb, cv=3)\n",
    "grid_search_xgb.fit(X_train_adasyn, y_train_adasyn)\n",
    "best_xgb = grid_search_xgb.best_estimator_\n",
    "\n",
    "# Ensemble the models using VotingClassifier\n",
    "ensemble_model = VotingClassifier(estimators=[('rf', best_rf), ('xgb', best_xgb)], voting='soft')\n",
    "ensemble_model.fit(X_train_adasyn, y_train_adasyn)\n",
    "\n",
    "# Predictions from the ensemble model\n",
    "y_train_pred_ensemble = ensemble_model.predict(X_train_poly)"
   ]
  },
  {
   "cell_type": "code",
   "execution_count": null,
   "id": "ab1d6122-e151-4f07-98f3-7c35c134417f",
   "metadata": {
    "ExecuteTime": {
     "end_time": "2023-08-30T23:46:33.464278+00:00",
     "start_time": "2023-08-30T23:46:33.220695+00:00"
    },
    "noteable": {
     "cell_type": "code",
     "output_collection_id": "c131616f-1ec1-4c69-b642-79fd6b46beb3"
    }
   },
   "outputs": [],
   "source": [
    "# Preprocess the test data\n",
    "X_test_scaled = scaler.transform(X_test)\n",
    "X_test_poly = poly.transform(X_test_scaled)\n",
    "\n",
    "# Predict using the ensemble model\n",
    "y_test_pred_ensemble = ensemble_model.predict(X_test_poly)"
   ]
  },
  {
   "cell_type": "code",
   "execution_count": null,
   "id": "9bdc79c7-f5e2-4d40-97a3-0dce9eafe9c4",
   "metadata": {
    "ExecuteTime": {
     "end_time": "2023-08-31T19:44:27.892921+00:00",
     "start_time": "2023-08-31T19:43:48.783816+00:00"
    },
    "noteable": {
     "cell_type": "code",
     "output_collection_id": "2a9880f4-fa55-4a5f-b606-dd71da892f54"
    }
   },
   "outputs": [],
   "source": [
    "import pandas as pd\n",
    "from sklearn.preprocessing import StandardScaler, PolynomialFeatures\n",
    "from sklearn.ensemble import RandomForestClassifier\n",
    "from imblearn.over_sampling import ADASYN\n",
    "from sklearn.model_selection import GridSearchCV\n",
    "import xgboost as xgb\n",
    "from sklearn.metrics import accuracy_score, precision_score, recall_score, f1_score\n",
    "import numpy as np\n",
    "import matplotlib.pyplot as plt\n",
    "\n",
    "# Load the data\n",
    "data = pd.read_csv('Corrected_Predictions_nan1190.csv')\n",
    "X = data.drop(['Corrected_Predictions', 'Time', 'trending'], axis=1)\n",
    "y = data['Corrected_Predictions']\n",
    "\n",
    "# Split the data at line 1190\n",
    "split_index = 1190\n",
    "X_train = X.iloc[:split_index]\n",
    "y_train = y.iloc[:split_index]\n",
    "\n",
    "# Scale the features\n",
    "scaler = StandardScaler()\n",
    "X_train_scaled = scaler.fit_transform(X_train)\n",
    "\n",
    "# Apply Polynomial Feature Transformation\n",
    "poly = PolynomialFeatures(degree=2)\n",
    "X_train_poly = poly.fit_transform(X_train_scaled)\n",
    "\n",
    "# Resample the training data using ADASYN\n",
    "adasyn = ADASYN(random_state=42)\n",
    "X_train_adasyn, y_train_adasyn = adasyn.fit_resample(X_train_poly, y_train)\n",
    "\n",
    "# Train RandomForestClassifier\n",
    "rf_clf = RandomForestClassifier(n_estimators=100, random_state=42)\n",
    "rf_clf.fit(X_train_adasyn, y_train_adasyn)\n",
    "\n",
    "# Train XGBoost\n",
    "def custom_loss(y_pred, dtrain):\n",
    "    y_true = dtrain.get_label()\n",
    "    grad = np.where(y_true == 1, -2*(1-y_pred), 2*y_pred)\n",
    "    hess = np.where(y_true == 1, 2*y_pred, 2*(1-y_pred))\n",
    "    return grad, hess\n",
    "\n",
    "dtrain = xgb.DMatrix(X_train_adasyn, label=y_train_adasyn)\n",
    "params = {\n",
    "    'objective': 'binary:logistic',\n",
    "    'eval_metric': 'logloss',\n",
    "    'max_depth': 6,\n",
    "    'eta': 0.1,\n",
    "    'alpha': 1,\n",
    "    'lambda': 1\n",
    "}\n",
    "bst = xgb.train(params, dtrain, num_boost_round=1000, obj=custom_loss)\n",
    "\n",
    "# Ensemble predictions\n",
    "class EnsembleModel:\n",
    "    def __init__(self, model1, model2):\n",
    "        self.model1 = model1\n",
    "        self.model2 = model2\n",
    "\n",
    "    def predict(self, X):\n",
    "        # Predict trend length with XGBoost\n",
    "        trend_length_pred = self.model2.predict(xgb.DMatrix(X))\n",
    "        # Use trend length prediction to adjust RandomForest predictions\n",
    "        rf_pred = self.model1.predict(X)\n",
    "        adjusted_pred = np.where(trend_length_pred > 0.5, rf_pred, 0)\n",
    "        return adjusted_pred\n",
    "\n",
    "ensemble_model = EnsembleModel(rf_clf, bst)\n",
    "y_train_pred_ensemble = ensemble_model.predict(X_train_poly)\n",
    "\n",
    "# Calculate metrics\n",
    "accuracy = accuracy_score(y_train, y_train_pred_ensemble)\n",
    "precision = precision_score(y_train, y_train_pred_ensemble)\n",
    "recall = recall_score(y_train, y_train_pred_ensemble)\n",
    "f1 = f1_score(y_train, y_train_pred_ensemble)\n",
    "\n",
    "accuracy, precision, recall, f1"
   ]
  },
  {
   "cell_type": "code",
   "execution_count": null,
   "id": "58a21bb1-4f00-4d06-bcc7-65d19ce60390",
   "metadata": {
    "ExecuteTime": {
     "end_time": "2023-08-31T20:00:37.647842+00:00",
     "start_time": "2023-08-31T20:00:37.485067+00:00"
    },
    "noteable": {
     "cell_type": "code",
     "output_collection_id": "937286b5-e10c-481d-bcec-2e7a7427f8a4"
    }
   },
   "outputs": [],
   "source": [
    "# Check the number of non-NaN and NaN values in y_test\n",
    "non_nan_count = y_test.dropna().shape[0]\n",
    "nan_count = y_test.isna().sum()\n",
    "non_nan_count, nan_count"
   ]
  },
  {
   "cell_type": "code",
   "execution_count": null,
   "id": "d2bab75c-c469-4f64-9eb3-2aec2cf4a808",
   "metadata": {
    "ExecuteTime": {
     "end_time": "2023-08-31T20:01:41.049812+00:00",
     "start_time": "2023-08-31T20:01:40.886475+00:00"
    },
    "noteable": {
     "cell_type": "code",
     "output_collection_id": "50471192-6369-4bd2-948a-78eb2de69f03"
    }
   },
   "outputs": [],
   "source": [
    "# Check the shape and first few rows of X_test\n",
    "X_test.shape, X_test.head()"
   ]
  },
  {
   "cell_type": "code",
   "execution_count": null,
   "id": "6cf3d719-e3dc-46ff-a76b-64f8a669f3ad",
   "metadata": {
    "ExecuteTime": {
     "end_time": "2023-08-31T20:02:19.385445+00:00",
     "start_time": "2023-08-31T20:02:19.085891+00:00"
    },
    "noteable": {
     "cell_type": "code",
     "output_collection_id": "6a8489c4-a68d-4161-b0cb-fd5e280536cf"
    }
   },
   "outputs": [],
   "source": [
    "# Load the data from 'Corrected_Predictions_nan1190.csv'\n",
    "data_corrected = pd.read_csv('Corrected_Predictions_nan1190.csv')\n",
    "X_corrected = data_corrected.drop(['Corrected_Predictions', 'Time', 'trending'], axis=1)\n",
    "y_corrected = data_corrected['Corrected_Predictions']\n",
    "# Extract rows with NaN values in y_corrected for prediction\n",
    "X_missing_corrected = X_corrected[y_corrected.isna()]\n",
    "# Predict values for the missing data\n",
    "y_missing_pred_corrected = ensemble_model.predict(poly.transform(scaler.transform(X_missing_corrected)))\n",
    "y_missing_pred_corrected"
   ]
  }
 ],
 "metadata": {
  "kernel_info": {
   "name": "python3"
  },
  "kernelspec": {
   "display_name": "Python 3",
   "language": "python",
   "name": "python3"
  },
  "language_info": {
   "codemirror_mode": {
    "name": "ipython",
    "version": 3
   },
   "file_extension": ".py",
   "mimetype": "text/x-python",
   "name": "python",
   "nbconvert_exporter": "python",
   "pygments_lexer": "ipython3",
   "version": "3.10.12"
  },
  "noteable": {
   "last_transaction_id": "9c81ed63-9934-4fb9-a05e-f25ca8df4dde"
  },
  "noteable-chatgpt": {
   "create_notebook": {
    "openai_conversation_id": "0d94d139-3e85-5185-9a95-fe0611a4bc52",
    "openai_ephemeral_user_id": "b0d4d36c-935f-58e3-950b-5fa2656f903a",
    "openai_subdivision1_iso_code": "US-MA"
   }
  },
  "selected_hardware_size": "large"
 },
 "nbformat": 4,
 "nbformat_minor": 5
}
